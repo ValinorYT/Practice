{
 "cells": [
  {
   "cell_type": "markdown",
   "metadata": {},
   "source": [
    "# Practice Code: [*kNN*](https://www.youtube.com/watch?v=9zS3aQGztQo) = k-Nearest-Neighbors"
   ]
  },
  {
   "cell_type": "markdown",
   "metadata": {},
   "source": [
    "<table class=\"tfo-notebook-buttons\" align=\"left\">\n",
    "  <td>\n",
    "    <a target=\"_blank\" href=\"https://www.youtube.com/watch?v=9zS3aQGztQo\"><img src=\"https://cdn.icon-icons.com/icons2/836/PNG/512/Youtube_icon-icons.com_66802.png\" width=\"32\"  />View video on Youtube</a>\n",
    "  </td>\n",
    "    \n",
    "  <td>\n",
    "    <a target=\"_blank\" href=\"https://github.com/ValinorYT/Practice/blob/main/machine_learning/knn.ipynb\"><img src=\"https://www.tensorflow.org/images/GitHub-Mark-32px.png\" />View source on GitHub</a>\n",
    "  </td>\n",
    "    \n",
    "  <td>\n",
    "    <a target=\"_blank\" href=\"https://twitter.com/ValinorYT\"><img src=\"https://cdn.icon-icons.com/icons2/729/PNG/512/twitter_icon-icons.com_62751.png\" width=\"32\"/>Check us out on Twitter</a>\n",
    "  </td>\n",
    "    \n",
    "</table>"
   ]
  },
  {
   "cell_type": "markdown",
   "metadata": {},
   "source": [
    "This Jupyter-Notebook has 2 parts:\n",
    "- a complete [implementation](#Implementation) of the kNN-classifier.\n",
    "- [practice questions](#Practice-Questions) to test your understanding"
   ]
  },
  {
   "cell_type": "markdown",
   "metadata": {},
   "source": [
    "## Implementation"
   ]
  },
  {
   "cell_type": "markdown",
   "metadata": {},
   "source": [
    "Use this code to get comfortable with kNN. Try to change stuff up, break it, fix again, try different values for k, implement the regression-variant out of this; just let your imagination run free :)\n",
    "\n",
    "- Don't be afraid to break something: This notebook is just a copy, if it doesn't work anymore, you can just go back to the [video](https://www.youtube.com/watch?v=9zS3aQGztQo) and load a fresh copy\n",
    "- If you're learning for uni/school right now: Take a deeeep breath, you got this :)"
   ]
  },
  {
   "cell_type": "markdown",
   "metadata": {},
   "source": [
    "## Datapoints\n",
    "\n",
    "This notebook uses the same datapoints from the [video](https://www.youtube.com/watch?v=9zS3aQGztQo)"
   ]
  },
  {
   "cell_type": "code",
   "execution_count": 29,
   "metadata": {},
   "outputs": [],
   "source": [
    "# First 2 entries are the coordinates, the 3rd entry is the label (The three options 0, 1 or 2).\n",
    "\n",
    "data_from_video = [\n",
    "#    x1      x2      label\n",
    "    [0.37,   0.29,   1], \n",
    "    [-4.6,   1.42,   0], \n",
    "    [-2.5,   -0.54,  2], \n",
    "    [-1.14,  -3.39,  2], \n",
    "    [0.7,    -2.66,  2], \n",
    "    [-3.27,  2.01,   0], \n",
    "    [-1.73,  0.54,   0],\n",
    "    [-0.07,  0.07,   1], \n",
    "    [4.78,   0.28,   1], \n",
    "    [-1.4,   -2.03,  2], \n",
    "    [-0.68,  -1.08,  0], \n",
    "    [-2.5,   1.49,   0], \n",
    "    [-0.32,  -2.51,  2], \n",
    "    [1.58,   1.31,   1],\n",
    "    [-1.99,  2.49,   1], \n",
    "    [2.05,   3,      1], \n",
    "    [3.1,    2.5,    1]\n",
    "]"
   ]
  },
  {
   "cell_type": "markdown",
   "metadata": {},
   "source": [
    "## Methods needed for the classifier"
   ]
  },
  {
   "cell_type": "code",
   "execution_count": 30,
   "metadata": {},
   "outputs": [],
   "source": [
    "from math import sqrt # Square-root of a single number\n",
    "import numpy          # Used for the euclidean distance\n",
    "\n",
    "# Sorts the points in ascending order by their distance to x.\n",
    "# -> The point at index 0 in the result is the closest one, the last point is the furthest.\n",
    "def sort_by_distance(data, x):\n",
    "    return sorted(data, key=lambda point: numpy.linalg.norm(x - numpy.array(point[:2])))"
   ]
  },
  {
   "cell_type": "code",
   "execution_count": 31,
   "metadata": {},
   "outputs": [],
   "source": [
    "from statistics import mode # The mode of a collection of elements is the most common element\n",
    "\n",
    "# returns the most common label of the k nearest neighbors of x\n",
    "def make_prediction(data, x, k):\n",
    "    data_sorted_by_distance = sort_by_distance(data, x)\n",
    "    nearest_k_points = data_sorted_by_distance[:k]    # [:k] selects elements from index 0 up to index k-1 (but not k)\n",
    "    labels = [point[2] for point in nearest_k_points] # Only take the 3rd entry for each datapoint, which is the label\n",
    "    return mode(labels)                               # return the most common label "
   ]
  },
  {
   "cell_type": "markdown",
   "metadata": {},
   "source": [
    "## Use the kNN-classifier\n",
    "\n",
    "Now we just need to apply our work to the datapoints we created at the top of the notebook.\n",
    "Aditionally we plot the points so that we can check by eye if the results are correct."
   ]
  },
  {
   "cell_type": "code",
   "execution_count": 32,
   "metadata": {
    "pycharm": {
     "is_executing": true
    }
   },
   "outputs": [
    {
     "name": "stdout",
     "output_type": "stream",
     "text": [
      "The prediction is: 2\n"
     ]
    },
    {
     "data": {
      "image/png": "[encoded data removed]",
      "text/plain": [
       "<Figure size 432x288 with 1 Axes>"
      ]
     },
     "metadata": {
      "needs_background": "light"
     },
     "output_type": "display_data"
    }
   ],
   "source": [
    "import matplotlib.pyplot as plt    # used for the scatterplot\n",
    "\n",
    "x = [1, -2]                        # coordinates of the new point whose label we are looking for\n",
    "plt.plot(*x,'rx', markersize=20)   # plot this point as a big red cross (r stands for red, x for cross)\n",
    "\n",
    "# Remark: c ~ color, s ~ size\n",
    "plt.scatter([x[0] for x in data_from_video], [x[1] for x in data_from_video], c=[x[2] for x in data_from_video], s=100)\n",
    "\n",
    "# add labels to the datapoints (kinda clunky, I know :/ )\n",
    "for i, label in enumerate([x[2] for x in data_from_video]):    \n",
    "    plt.annotate(label, (data_from_video[i][0]+ 0.2, data_from_video[i][1]))\n",
    "    \n",
    "    \n",
    "    \n",
    "prediction = make_prediction(data_from_video, x, k=3)\n",
    "print(\"The prediction is:\", prediction)"
   ]
  },
  {
   "cell_type": "markdown",
   "metadata": {},
   "source": [
    "### Ideas for the implementation\n",
    "\n",
    "- Try a wild range of combinations for *x* and *k*\n",
    "- Implement the variant for regression\n",
    "- Code the distance-function yourself (right now *numpy.linalg.norm* (the [euclidean norm](https://en.wikipedia.org/wiki/Euclidean_norm))is used)\n",
    "- What other distance-functions exist? Try some out\n",
    "- Use another data-set, for example the [Iris Dataset](https://scikit-learn.org/stable/auto_examples/datasets/plot_iris_dataset.html)"
   ]
  },
  {
   "cell_type": "markdown",
   "metadata": {},
   "source": [
    "## Practice-Questions"
   ]
  },
  {
   "cell_type": "markdown",
   "metadata": {},
   "source": [
    "- Does k-NN do more computation on test-time or on train-time?"
   ]
  },
  {
   "cell_type": "markdown",
   "metadata": {},
   "source": [
    "*Double-Click* here for **ANSWER**\n",
    "<!-- \n",
    "\n",
    "In the training phase only of stores the coordinates and class-labels of the training data.\n",
    "\n",
    "When running kNN, the distances to all points have to be computed, which takes way longer.\n",
    "\n",
    "Algorithms like this are called LAZY learners https://sebastianraschka.com/faq/docs/lazy-knn.html\n",
    "\n",
    "-->"
   ]
  },
  {
   "cell_type": "markdown",
   "metadata": {},
   "source": [
    "- What does *k* stand for?"
   ]
  },
  {
   "cell_type": "markdown",
   "metadata": {},
   "source": [
    "*Double-Click* here for **ANSWER**\n",
    "<!-- \n",
    "\n",
    "The number of neighbors that are looked at\n",
    "\n",
    "-->"
   ]
  },
  {
   "cell_type": "markdown",
   "metadata": {},
   "source": [
    "- If k=1, is the algorithm more likely to over- or under-fit?"
   ]
  },
  {
   "cell_type": "markdown",
   "metadata": {},
   "source": [
    "*Double-Click* here for **ANSWER**\n",
    "<!-- \n",
    "\n",
    "If k=1, you just look at the CLOSEST point. If the point is an outlier, this is still the only training data used to make the transition.\n",
    "Check out the video for this: https://youtu.be/9zS3aQGztQo?t=33\n",
    "\n",
    "-->"
   ]
  },
  {
   "cell_type": "markdown",
   "metadata": {},
   "source": [
    "- What happens if you set *k* the number of datapoints?"
   ]
  },
  {
   "cell_type": "markdown",
   "metadata": {},
   "source": [
    "*Double-Click* here for **ANSWER**\n",
    "<!-- \n",
    "\n",
    "The algorithm just always predicts the same thing: The most common class of the datapoints.\n",
    "\n",
    "-->"
   ]
  },
  {
   "cell_type": "markdown",
   "metadata": {},
   "source": [
    "## The END\n",
    "\n",
    "![ChessUrl](https://media2.giphy.com/media/5IT69msgpaOcg/giphy.gif?cid=ecf05e47e5ntgnc6gidu81abnk60hb7qkrrd33uy7mjir9kd&rid=giphy.gif&ct=g \"chess\")\n",
    "\n",
    "- If you really enjoyed this notebook, write a message on [Twitter](https://twitter.com/ValinorYT).\n",
    "- If you found a bug, also write on Twitter or create an Issue on [GitHub](https://github.com/ValinorYT/Practice/blob/main/machine_learning/knn.ipynb)."
   ]
  },
  {
   "cell_type": "code",
   "execution_count": null,
   "metadata": {},
   "outputs": [],
   "source": []
  }
 ],
 "metadata": {
  "kernelspec": {
   "display_name": "Python 3 (ipykernel)",
   "language": "python",
   "name": "python3"
  },
  "language_info": {
   "codemirror_mode": {
    "name": "ipython",
    "version": 3
   },
   "file_extension": ".py",
   "mimetype": "text/x-python",
   "name": "python",
   "nbconvert_exporter": "python",
   "pygments_lexer": "ipython3",
   "version": "3.9.6"
  }
 },
 "nbformat": 4,
 "nbformat_minor": 1
}